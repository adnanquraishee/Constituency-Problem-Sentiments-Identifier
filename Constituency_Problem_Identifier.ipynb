{
  "nbformat": 4,
  "nbformat_minor": 0,
  "metadata": {
    "colab": {
      "provenance": []
    },
    "kernelspec": {
      "name": "python3",
      "display_name": "Python 3"
    },
    "language_info": {
      "name": "python"
    }
  },
  "cells": [
    {
      "cell_type": "markdown",
      "source": [
        "Installing Prerequisites & Dependencies"
      ],
      "metadata": {
        "id": "gmoJ6_rs6JaJ"
      }
    },
    {
      "cell_type": "code",
      "source": [
        "pip install GoogleNews"
      ],
      "metadata": {
        "id": "GZuZxdrjYA1G"
      },
      "execution_count": null,
      "outputs": []
    },
    {
      "cell_type": "code",
      "source": [
        "from GoogleNews import GoogleNews\n",
        "googlenews = GoogleNews()\n",
        "googlenews.enableException(True)\n",
        "googlenews = GoogleNews(lang='en')\n",
        "googlenews = GoogleNews(period='100d')\n",
        "googlenews = GoogleNews(encode='utf-8')\n",
        "import pandas as pd\n",
        "import nltk\n",
        "from nltk.tokenize import word_tokenize\n",
        "from nltk.corpus import stopwords\n",
        "from collections import Counter\n",
        "import matplotlib.pyplot as plt\n",
        "from textblob import TextBlob\n",
        "nltk.download('punkt')\n",
        "nltk.download('stopwords')\n",
        "nltk.download('averaged_perceptron_tagger')\n",
        "from nltk.probability import FreqDist\n",
        "nltk.download('maxent_ne_chunker')\n",
        "nltk.download('words')\n",
        "from nltk import ne_chunk\n",
        "from nltk.tag import pos_tag\n",
        "import spacy\n",
        "nlp = spacy.load(\"en_core_web_sm\")\n",
        "!python -m textblob.download_corpora"
      ],
      "metadata": {
        "id": "k8fA3H6PYGyY"
      },
      "execution_count": null,
      "outputs": []
    },
    {
      "cell_type": "markdown",
      "source": [
        "Scraping Data"
      ],
      "metadata": {
        "id": "SYWiEhU26RPI"
      }
    },
    {
      "cell_type": "code",
      "source": [
        "googlenews.clear()"
      ],
      "metadata": {
        "id": "5YAkmTQRuGq6"
      },
      "execution_count": 78,
      "outputs": []
    },
    {
      "cell_type": "code",
      "source": [
        "googlenews.get_news('Congress NYAY Manifesto')\n",
        "news_data = googlenews.get_texts()\n",
        "df = pd.DataFrame(news_data, columns=['news'])"
      ],
      "metadata": {
        "id": "_nKN-Yo2BxsC"
      },
      "execution_count": 79,
      "outputs": []
    },
    {
      "cell_type": "markdown",
      "source": [
        "Classes of each use:"
      ],
      "metadata": {
        "id": "f-TCODpZxote"
      }
    },
    {
      "cell_type": "code",
      "source": [
        "def preprocess_text(text):\n",
        "    # Tokenize text into words\n",
        "    words = word_tokenize(text.lower())\n",
        "    # Filter out stopwords and punctuation\n",
        "    stop_words = set(stopwords.words('english'))\n",
        "    filtered_words = [word for word in words if word.isalnum() and word not in stop_words]\n",
        "    return filtered_words\n",
        "\n",
        "# Function to extract key political issues\n",
        "def extract_political_issues(news_data):\n",
        "    # Preprocess news text\n",
        "    preprocessed_news = news_data.apply(preprocess_text)\n",
        "    # Flatten list of words\n",
        "    flattened_words = [word for sublist in preprocessed_news for word in sublist]\n",
        "    # Calculate word frequencies\n",
        "    word_freq = FreqDist(flattened_words)\n",
        "    # Get most common words\n",
        "    most_common_words = word_freq.most_common(10)  # Adjust the number as needed\n",
        "    return most_common_words\n",
        "\n",
        "def perform_sentiment_analysis(news_data):\n",
        "    sentiments = []\n",
        "    for news_article in news_data:\n",
        "        analysis = TextBlob(news_article)\n",
        "        sentiment_score = analysis.sentiment.polarity\n",
        "        if sentiment_score > 0:\n",
        "            sentiment = 'Positive'\n",
        "        elif sentiment_score < 0:\n",
        "            sentiment = 'Negative'\n",
        "        else:\n",
        "            sentiment = 'Neutral'\n",
        "        sentiments.append(sentiment)\n",
        "    return sentiments\n",
        "\n",
        "# Perform sentiment analysis on news data\n",
        "sentiments = perform_sentiment_analysis(df['news'])\n",
        "\n",
        "# Add sentiment information to the DataFrame\n",
        "df['Sentiment'] = sentiments\n",
        "\n",
        "def extract_framing_techniques(news_data):\n",
        "    framing_techniques = []\n",
        "    for news_article in news_data:\n",
        "        analysis = TextBlob(news_article)\n",
        "        noun_phrases = analysis.noun_phrases\n",
        "        framing_techniques.extend(noun_phrases)\n",
        "    return framing_techniques\n",
        "\n",
        "def extract_named_entity_relationships(text):\n",
        "    doc = nlp(text)\n",
        "    relationships = []\n",
        "    for ent in doc.ents:\n",
        "        if ent.label_ == \"ORG\" or ent.label_ == \"LOC\" or ent.label_ == \"PERSON\":\n",
        "            relationships.append((ent.text, ent.label_))\n",
        "    return relationships"
      ],
      "metadata": {
        "id": "HGXMWBUjxnw9"
      },
      "execution_count": 80,
      "outputs": []
    },
    {
      "cell_type": "markdown",
      "source": [
        "Results:"
      ],
      "metadata": {
        "id": "NGpouYrH2wXW"
      }
    },
    {
      "cell_type": "markdown",
      "source": [
        "1. Key Political issues with no of mentions."
      ],
      "metadata": {
        "id": "mN1rDHu45PzL"
      }
    },
    {
      "cell_type": "code",
      "source": [
        "# Extract key political issues from news data\n",
        "key_political_issues = extract_political_issues(df['news'])\n",
        "print(\"Key Political Issues:\")\n",
        "for issue, frequency in key_political_issues:\n",
        "    print(f\"{issue}: {frequency} mentions\")"
      ],
      "metadata": {
        "id": "a5s4a3fntjz2",
        "colab": {
          "base_uri": "https://localhost:8080/"
        },
        "outputId": "0fa0255f-7a53-4cc4-be64-3e45eab38770"
      },
      "execution_count": 81,
      "outputs": [
        {
          "output_type": "stream",
          "name": "stdout",
          "text": [
            "Key Political Issues:\n",
            "congress: 96 mentions\n",
            "manifesto: 74 mentions\n",
            "nyay: 36 mentions\n",
            "patra: 34 mentions\n",
            "lok: 31 mentions\n",
            "sabha: 31 mentions\n",
            "2024: 27 mentions\n",
            "modi: 21 mentions\n",
            "elections: 15 mentions\n",
            "bjp: 15 mentions\n"
          ]
        }
      ]
    },
    {
      "cell_type": "markdown",
      "source": [
        "2. Segregating df into positive, negative and neutral dfs"
      ],
      "metadata": {
        "id": "GKDVNdNx5jpC"
      }
    },
    {
      "cell_type": "code",
      "source": [
        "positive_df = df[df['Sentiment'] == 'Positive']\n",
        "negative_df = df[df['Sentiment'] == 'Negative']\n",
        "neutral_df = df[df['Sentiment'] == 'Neutral']"
      ],
      "metadata": {
        "id": "UZ9WgDTlixtR"
      },
      "execution_count": 82,
      "outputs": []
    },
    {
      "cell_type": "markdown",
      "source": [
        "3. Framing the text"
      ],
      "metadata": {
        "id": "hmrzp3PW5psv"
      }
    },
    {
      "cell_type": "code",
      "source": [
        "# Extract framing techniques from news data\n",
        "framing_techniques = extract_framing_techniques(df['news'])\n",
        "\n",
        "# Count the frequency of each framing technique\n",
        "framing_technique_counts = Counter(framing_techniques)\n",
        "\n",
        "# Display the dominant framing techniques\n",
        "print(\"Dominant Framing Techniques in the News Articles:\")\n",
        "for technique, count in framing_technique_counts.most_common():\n",
        "    print(f\"{technique}: {count} mentions\")"
      ],
      "metadata": {
        "colab": {
          "base_uri": "https://localhost:8080/"
        },
        "id": "xE6szYhGnjNi",
        "outputId": "458ebffc-ace3-4af6-fd91-21ceeda3bdfb"
      },
      "execution_count": 83,
      "outputs": [
        {
          "output_type": "stream",
          "name": "stdout",
          "text": [
            "Dominant Framing Techniques in the News Articles:\n",
            "congress: 53 mentions\n",
            "lok sabha: 21 mentions\n",
            "nyay patra: 21 mentions\n",
            "bjp: 15 mentions\n",
            "pm modi: 13 mentions\n",
            "mint: 11 mentions\n",
            "patra: 9 mentions\n",
            "lok sabha elections: 9 mentions\n",
            "nyay: 8 mentions\n",
            "modi: 7 mentions\n",
            "’ s: 7 mentions\n",
            "kharge: 7 mentions\n",
            "social justice: 4 mentions\n",
            "release manifesto: 4 mentions\n",
            "rahul gandhi: 4 mentions\n",
            "congress manifesto: 4 mentions\n",
            "manifesto: 4 mentions\n",
            "telangana: 3 mentions\n",
            "guarantee: 3 mentions\n",
            "sankalp patra: 3 mentions\n",
            "caa: 3 mentions\n",
            "poll manifesto: 3 mentions\n",
            "party 's: 2 mentions\n",
            "muslims: 2 mentions\n",
            "cong: 2 mentions\n",
            "releases manifesto: 2 mentions\n",
            "'s ‘: 2 mentions\n",
            "party manifesto: 2 mentions\n",
            "express: 2 mentions\n",
            "manifesto creates: 2 mentions\n",
            "manifesto |: 2 mentions\n",
            "‘ nyay ’: 2 mentions\n",
            "opinion: 2 mentions\n",
            "lgbtqia: 2 mentions\n",
            "promises: 2 mentions\n",
            "pmla: 2 mentions\n",
            "pakistan: 2 mentions\n",
            "mallikarjun kharge: 2 mentions\n",
            "april: 2 mentions\n",
            "key: 2 mentions\n",
            "expensive wishlist: 1 mentions\n",
            "rs: 1 mentions\n",
            "lakh crore: 1 mentions\n",
            "aipc: 1 mentions\n",
            "party ’ s ‘ paanch nyay ’: 1 mentions\n",
            "‘ guarantees ’: 1 mentions\n",
            "economic reforms: 1 mentions\n",
            "key aspects: 1 mentions\n",
            "india: 1 mentions\n",
            "’ s engagement: 1 mentions\n",
            "world needs: 1 mentions\n",
            "people 's wealth: 1 mentions\n",
            "fact: 1 mentions\n",
            "says… |: 1 mentions\n",
            "'khatarnaak ...: 1 mentions\n",
            "cm yogi: 1 mentions\n",
            "pitroda: 1 mentions\n",
            "'inheritance tax: 1 mentions\n",
            "election manifestos differ: 1 mentions\n",
            "ubs: 1 mentions\n",
            "economists: 1 mentions\n",
            "guardian: 1 mentions\n",
            "rumours: 1 mentions\n",
            "congress actually: 1 mentions\n",
            "special manifesto: 1 mentions\n",
            "telangana-specific: 1 mentions\n",
            "decode politics: 1 mentions\n",
            "warns people: 1 mentions\n",
            "wealth ’: 1 mentions\n",
            "'five pillars: 1 mentions\n",
            "banking: 1 mentions\n",
            "new ground: 1 mentions\n",
            "’ vs ‘: 1 mentions\n",
            "free: 1 mentions\n",
            "new ideas: 1 mentions\n",
            "indian state: 1 mentions\n",
            "vs congress: 1 mentions\n",
            "key points |: 1 mentions\n",
            "'congress manifesto: 1 mentions\n",
            "thailand: 1 mentions\n",
            "'s holiday itinerary |: 1 mentions\n",
            "redistribution: 1 mentions\n",
            "'s allegations: 1 mentions\n",
            "political firestorm: 1 mentions\n",
            "'s wha: 1 mentions\n",
            "party 's election: 1 mentions\n",
            "buzz: 1 mentions\n",
            "‘ ₹1 lakh: 1 mentions\n",
            "poor indian family ’: 1 mentions\n",
            "releases ‘: 1 mentions\n",
            "releases 'nyay: 1 mentions\n",
            "will congress: 1 mentions\n",
            "‘ redistribute wealth ’: 1 mentions\n",
            "english: 1 mentions\n",
            "kotak: 1 mentions\n",
            "'s communal diversions: 1 mentions\n",
            "corporate monopolies: 1 mentions\n",
            "rss: 1 mentions\n",
            "% govt jobs: 1 mentions\n",
            "’ |: 1 mentions\n",
            "telangana congress: 1 mentions\n",
            "launches manifesto: 1 mentions\n",
            "industrial corridors: 1 mentions\n",
            "judicial benches: 1 mentions\n",
            "niti aayog: 1 mentions\n",
            "takeaways: 1 mentions\n",
            "mention: 1 mentions\n",
            "ucc: 1 mentions\n",
            "progressive: 1 mentions\n",
            "pragmatic: 1 mentions\n",
            "vows: 1 mentions\n",
            "national status: 1 mentions\n",
            "palamuru: 1 mentions\n",
            "itir: 1 mentions\n",
            "party ’ s ‘: 1 mentions\n",
            "misinformed: 1 mentions\n",
            "kharge writes: 1 mentions\n",
            "says: 1 mentions\n",
            "poor: 1 mentions\n",
            "amrita gill: 1 mentions\n",
            "vvpat: 1 mentions\n",
            "'s poll manifesto: 1 mentions\n",
            "caste: 1 mentions\n",
            "cash transfers: 1 mentions\n",
            "assam cm himanta biswa sarma: 1 mentions\n",
            "special agencies: 1 mentions\n",
            "manifesto signals: 1 mentions\n",
            "welcome return: 1 mentions\n",
            "ideological moorings: 1 mentions\n",
            "elections: 1 mentions\n",
            "sankalp: 1 mentions\n",
            "manifestos: 1 mentions\n",
            "jobs: 1 mentions\n",
            "promise: 1 mentions\n",
            "hope: 1 mentions\n",
            "lok sabha fight: 1 mentions\n",
            "names ruling party: 1 mentions\n",
            "commitment: 1 mentions\n",
            "will: 1 mentions\n",
            "parties: 1 mentions\n",
            "defensive: 1 mentions\n",
            "nyay pachees guarantee: 1 mentions\n",
            "manifesto pledges: 1 mentions\n",
            "cross-border terror: 1 mentions\n",
            "party 's 'nyay: 1 mentions\n",
            "lakh comments: 1 mentions\n",
            "e-mails ’: 1 mentions\n",
            "public feedback: 1 mentions\n",
            "highlights: 1 mentions\n",
            "unleash growth: 1 mentions\n",
            "centre stage: 1 mentions\n",
            "announces mega rallies: 1 mentions\n",
            "jaipur: 1 mentions\n",
            "hyderabad: 1 mentions\n",
            "manifesto reflects leftist influence: 1 mentions\n",
            "pm modi slams congress: 1 mentions\n",
            "manifesto vows: 1 mentions\n",
            "government policies: 1 mentions\n",
            "paanch nyay: 1 mentions\n",
            "quota cap rise: 1 mentions\n",
            "agnipath: 1 mentions\n",
            "'s manifesto: 1 mentions\n",
            "decoding: 1 mentions\n",
            "points: 1 mentions\n",
            "sonia: 1 mentions\n",
            "rahul: 1 mentions\n",
            "release 'nyay: 1 mentions\n",
            "election manifestos: 1 mentions\n",
            "pdf: 1 mentions\n",
            "download: 1 mentions\n",
            "guarantee differs: 1 mentions\n",
            "manifesto banks: 1 mentions\n",
            "guarantees success: 1 mentions\n",
            "karnataka: 1 mentions\n",
            "economic policy: 1 mentions\n",
            "congress nyay patra: 1 mentions\n",
            "minorities 'freedom: 1 mentions\n",
            "personal laws: 1 mentions\n",
            "language… ’: 1 mentions\n",
            "top: 1 mentions\n",
            "points |: 1 mentions\n",
            "final approval: 1 mentions\n",
            "releases 48-page 'nyay: 1 mentions\n",
            "cwc: 1 mentions\n",
            "ls: 1 mentions\n",
            "polls manifesto: 1 mentions\n",
            "party president: 1 mentions\n",
            "mallikarjun: 1 mentions\n",
            "decoding congress: 1 mentions\n",
            "scrapping agnipath: 1 mentions\n",
            "manipur: 1 mentions\n",
            "msp: 1 mentions\n",
            "manifesto focusses: 1 mentions\n",
            "— key highlights: 1 mentions\n",
            "releases poll manifesto ‘: 1 mentions\n",
            "’ manifesto: 1 mentions\n",
            "minimum wage: 1 mentions\n",
            "₹1 lakh: 1 mentions\n",
            "poor family: 1 mentions\n",
            "'muslim league: 1 mentions\n",
            "'wealth distribution: 1 mentions\n",
            "manifesto panel head: 1 mentions\n",
            "p chidambaram: 1 mentions\n",
            "’ s ‘ nyay ’ pitch: 1 mentions\n"
          ]
        }
      ]
    },
    {
      "cell_type": "markdown",
      "source": [
        "4. Creating CSV of each df"
      ],
      "metadata": {
        "id": "P6N6r6vW5yrK"
      }
    },
    {
      "cell_type": "code",
      "source": [
        "df.to_csv(\"output.csv\", index=False)\n",
        "positive_df.to_csv(\"positive_output.csv\", index=False)\n",
        "negative_df.to_csv(\"negative_output.csv\", index=False)\n",
        "neutral_df.to_csv(\"neutral_output.csv\", index=False)"
      ],
      "metadata": {
        "id": "y7XXJ47lvfUw"
      },
      "execution_count": 84,
      "outputs": []
    }
  ]
}